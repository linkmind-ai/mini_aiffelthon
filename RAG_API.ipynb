
{
  "cells": [
    {
      "cell_type": "code",
      "execution_count": null,
      "metadata": {
        "colab": {
          "base_uri": "https://localhost:8080/"
        },
        "collapsed": true,
        "id": "-wRXrfmLjXHY",
        "outputId": "99efb536-4199-4f74-f8ed-5c25f83c92d7"
      },
      "outputs": [],
      "source": [
        "# !pip install faiss-cpu sentence-transformers langchain scikit-learn ragas pandas google-generativeai"
      ]
    },
    {
      "cell_type": "code",
      "execution_count": 51,
      "metadata": {
        "id": "i1bw2KBNdAav"
      },
      "outputs": [],
      "source": [
        "import os\n",
        "import google.generativeai as genai"
      ]
    },
    {
      "cell_type": "code",
      "execution_count": 52,
      "metadata": {
        "colab": {
          "base_uri": "https://localhost:8080/",
          "height": 73
        },
        "id": "IR6vft0LmnBj",
        "outputId": "20189c21-7fd2-461b-e20b-d02b482f57ca"
      },
      "outputs": [
        {
          "name": "stdout",
          "output_type": "stream",
          "text": [
            "인공지능은 인간의 지능을 모방하여 학습, 추론, 문제 해결 등 다양한 인지 기능을 수행하는 컴퓨터 시스템 또는 기술입니다.\n",
            "\n"
          ]
        }
      ],
      "source": [
        "genai.configure(api_key='API-key')\n",
        "model = genai.GenerativeModel('gemini-2.0-flash')\n",
        "response = model.generate_content(\"인공지능에 대해 한 문장으로 설명하세요.\")\n",
        "print(response.text)"
      ]
    },
    {
      "cell_type": "code",
      "execution_count": 53,
      "metadata": {
        "id": "S68_toknjI9O"
      },
      "outputs": [],
      "source": [
        "import faiss\n",
        "import numpy as np\n",
        "import pickle\n",
        "import pandas as pd\n",
        "from langchain.document_loaders import TextLoader\n",
        "from langchain.text_splitter import CharacterTextSplitter\n",
        "from sentence_transformers import SentenceTransformer\n",
        "from sklearn.preprocessing import normalize\n",
        "import google.generativeai as genai\n",
        "\n",
        "from datasets import Dataset\n",
        "from ragas import evaluate\n",
        "from ragas.metrics import faithfulness, answer_relevancy, context_precision,context_recall"
      ]
    },
    {
      "cell_type": "code",
      "execution_count": 54,
      "metadata": {
        "id": "ASffLd7jjHPA"
      },
      "outputs": [],
      "source": [
        "def create_faiss_index(texts, model, save_path=\"faiss_index.pkl\"):\n",
        "    \"\"\"텍스트 리스트를 임베딩 후 FAISS에 저장 및 저장 파일 생성\"\"\"\n",
        "    embeddings = model.encode(texts, convert_to_numpy=True)\n",
        "    embeddings = normalize(embeddings, axis=1)  # 코사인 유사도 적용을 위해 정규화\n",
        "    index = faiss.IndexFlatIP(embeddings.shape[1])  # 코사인 유사도 기반 Index\n",
        "    index.add(embeddings)\n",
        "\n",
        "    # FAISS 인덱스 및 텍스트 저장\n",
        "    with open(save_path, \"wb\") as f:\n",
        "        pickle.dump({\"index\": index, \"texts\": texts}, f)\n",
        "\n",
        "    return index, embeddings\n",
        "\n",
        "def load_faiss_index(load_path=\"faiss_index.pkl\"):\n",
        "    \"\"\"저장된 FAISS 인덱스를 로드\"\"\"\n",
        "    with open(load_path, \"rb\") as f:\n",
        "        data = pickle.load(f)\n",
        "    return data[\"index\"], data[\"texts\"]\n",
        "\n",
        "def retrieve_documents(query, index, model, texts, top_k=5):\n",
        "    \"\"\"입력 질문과 가장 유사한 문서 청크 top_k 개 반환\"\"\"\n",
        "    query_embedding = model.encode([query], convert_to_numpy=True)\n",
        "    query_embedding = normalize(query_embedding, axis=1)  # 정규화\n",
        "    distances, indices = index.search(query_embedding, top_k)\n",
        "    retrieved_chunks = [(texts[i], distances[0][j]) for j, i in enumerate(indices[0])]\n",
        "    return sorted(retrieved_chunks, key=lambda x: x[1], reverse=True)  # 유사도 순 정렬\n",
        "\n",
        "def generate_gemini_answer(query, context):\n",
        "    \"\"\"Gemini API를 활용하여 답변 생성\"\"\"\n",
        "\n",
        "    model = genai.GenerativeModel('gemini-2.0-flash')\n",
        "    response = model.generate_content(query)\n",
        "    return response.text\n"
      ]
    },
    {
      "cell_type": "code",
      "execution_count": 55,
      "metadata": {
        "colab": {
          "base_uri": "https://localhost:8080/"
        },
        "id": "rwNPJI02ktOm",
        "outputId": "9a0abb03-7c87-4e0c-cfd8-5eb6f72ff47b"
      },
      "outputs": [
        {
          "name": "stderr",
          "output_type": "stream",
          "text": [
            "Created a chunk of size 507, which is longer than the specified 500\n",
            "Created a chunk of size 1013, which is longer than the specified 500\n",
            "Created a chunk of size 716, which is longer than the specified 500\n",
            "Created a chunk of size 656, which is longer than the specified 500\n",
            "Created a chunk of size 779, which is longer than the specified 500\n"
          ]
        },
        {
          "name": "stdout",
          "output_type": "stream",
          "text": [
            "https://level.goorm.io/exam/195698/연합/quiz/1\n",
            "백준 바이러스와 유사한 문제이다. 그래프로 연결할 때, 몇 개의 집합이 있는가 묻는 문제이다.\n",
            "DFS와 BFS 방식 두 가지으로 모두 해결했지만, 여기에는 조금 다른 방법을 적어본다.\n",
            "3주차에서 '탐색'이라는 카테고리에서 DFS와 BFS 응용을 했으니, 4주차에서는 진짜 '그래프'로 풀어보고자 했다.\n",
            "구름의 출제 의도가 그것이 아닐까? 라는 생각이 들어 다른 그래프 알고리즘을 적용해보았다.\n",
            "그게 아니라면 DFS와 BFS를 굳이 2주에 걸쳐 할 필요가 없으니 말이다.\n",
            "Union-Find, 다른 말로는 DSU(Disjoint Set Union)으로 부르는 알고리즘이다.\n",
            "각 노드(node)를 돌면서, 연결된 노드들 사이에서 root를 찾아 저장한다.\n",
            "모든 노드를 돌면 각 노드의 저장값은, 루트 노드만이 존재하게 된다.\n",
            "중복을 제거하면 루트 노드들의 값이 1개씩만 존재할 것이고, 이는 곧 집합의 수와 같다.\n",
            "중복을 제거하면 루트 노드들의 값이 1개씩만 존재할 것이고, 이는 곧 집합의 수와 같다.\n",
            "밑에서 설명할 알고리즘에서는 Union-Find라는 용어를 기준으로 진행한다.\n",
            "Union-Find에서 Find를 담당하는 알고리즘이다.\n",
            "탐색이라는 뜻의 Find로, 특정 노드가 어떤 루트 노드에 속한 그래프인지 탐색하는 알고리즘이다.\n",
            "parent는 특정 index에 index의 루트 노드를 저장한 list다.\n",
            "저장한 값과 index가 같다면, 노드 자신이 루트 노드다. 즉, 현재 값(current)를 반환하면 된다.\n",
            "하지만 저장한 값과 index가 다르다면, 저장한 값을 따라서 루트 노드를 찾아간다.\n",
            "Union-Find에서 Union을 담당하는 알고리즘이다.\n",
            "조합이라는 뜻의 Union로, 각 노드들을 특정 루트 노드에 속하게 그래프를 합치는 알고리즘이다.\n",
            "두 개의 start, end 노드를 입력받고, 두 노드를 루트 노드를 기준으로 하나의 그래프로 합친다.\n",
            "밑의 함수에서 살펴보겠지만, Union() 함수에 들어온 두 노드는 전제가 '같은 그래프에 속하는 노드'다.\n",
            "start 노드의 루트 노드는 start_root로, end 노드의 루트 노드는 end_root로 Find() 함수로 계산한다.\n",
            "여기서는 루트 노드를 더 작은 노드를 기준으로 삼았다.\n",
            "큰 노드를 기준으로 삼아도 상관없다. 어차피 '집합의 개수'를 세는 문제다. 문제에 따라 조건을 달리 하자.\n",
            "두 개가 같은 그래프이고, 각각의 루트 노드를 가져왔다. 그럼 더 작은 노드를 기준으로 루트 노드를 변경해준다.\n",
            "Union() 함수와 Find() 함수를 같이 묶어서 사용하는 Solution() 함수이다.\n",
            "모든 노드는 초기화(parent)한다. 초기 상태는 자기 자신이 루트 노드인 상태이다.\n",
            "인접 리스트를 활용하여, 모든 노드를 하나하나 탐색한다.\n",
            "start 노드(s)와 end 노드(e)가 서로 양방향으로 연결되어 있다면 Union으로 연결한다.\n",
            "모든 노드를 탐색하고 나면, parent에는 각 index의 루트 노드가 저장된 상태일 것이다.\n",
            "정답을 넣을 set() 자료 구조로, answer 객체를 선언한다.\n",
            "마지막으로 모든 노드의 루트값을 Find() 함수로 찾아 저장한다.\n",
            "문제의 정답은 '집합의 개수'이니 answer의 길이(len)를 반환하면 끝이다.\n",
            "이때 조심할 점은 parent를 활용한 정답 추출이다.\n",
            "parent에는 각 노드에 해당하는 루트 노드가 저장된 것은 틀림없다.\n",
            "그렇다면 굳이 Find()로 다시 찾을 필요 없이, parent를 set()으로 감싼 길이를 반환하면 되지 않은가?\n",
            "않다. 해당 Union-Find 알고리즘에서는 순서라는 큰 제약이 있다.\n",
            "반례(counter example)를 살펴보자.\n",
            "1 2 3 4 5가 있는 상태로, 1-5, 2-3, 3-4, 4-5가 양방향으로 연결되어 있는 상태다.\n",
            "인접리스트를 초기화하고, 노드를 index 순서대로 돌면서 루트 노드를 검색하고 변경한다.\n",
            "인접리스트를 초기화하고, 노드를 index 순서대로 돌면서 루트 노드를 검색하고 변경한다.\n",
            "그럼 parent는 [1, 1, 1, 1, 1]이 되어야 할 것 같지만, 접근 순서 때문에 [1, 1, 2, 2, 1]이 된다.\n",
            "1과 2는 가장 끝과 끝이지만 분명 연결된 하나의 그래프이다.\n",
            "순서 때문에 발생하는 오류이니 이 점을 유의하자.약 6개월동안 개인 프로젝트로 앱을 만들었다.\n",
            "주제는 '갤럭시 워치에서 볼 수 있는 실시간 지하철 앱'이었다.(주제 선정과 그에 대한 이유, 현재까지의 진행 상황, 사용 알고리즘 등은 추후에 따로 정리하여 전부 올린다.)\n",
            "매년 있는 학과 학술제에 나가, 그동안에 내가 배운 전공에 대해서 어떻게든 응용하려고 했다.\n",
            "더욱이, 내가 만든 것을 다른 사람과 공유하고 많은 사람이 피드백을 주는 대회인데! 안 나갈 이유가 없다.\n",
            "1학년 팀프로젝트 2등, 2학년 팀프로젝트 2등, 3학년 개인프로젝트 1등이라는 쾌거를 쥐었다.\n"
          ]
        }
      ],
      "source": [
        "# 1️⃣ 텍스트 청킹 (줄넘김 기준, 500자 청크, 50자 오버랩)\n",
        "file_path = \"/Users/masang/Desktop/aiffel/mini-aiffelton/tistory_texts.txt\"  # 사용할 .txt 파일 경로 지정\n",
        "with open(file_path, \"r\", encoding=\"utf-8\") as file:\n",
        "    pages = file.readlines()\n",
        "\n",
        "text_splitter = CharacterTextSplitter(separator=\"\\n\", chunk_size=500, chunk_overlap=50, length_function=len)\n",
        "texts = text_splitter.split_text(\"\\n\".join(pages))\n",
        "\n",
        "for text in texts[:5]:  \n",
        "    print(text)"
      ]
    },
    {
      "cell_type": "code",
      "execution_count": 56,
      "metadata": {
        "id": "GWpENHOGk3pR"
      },
      "outputs": [],
      "source": [
        "# 2️⃣ KoSBERT 임베딩 생성 및 FAISS 저장\n",
        "model = SentenceTransformer('jhgan/ko-sbert-sts')\n",
        "index, embeddings = create_faiss_index(texts, model)"
      ]
    },
    {
      "cell_type": "code",
      "execution_count": 57,
      "metadata": {
        "colab": {
          "base_uri": "https://localhost:8080/"
        },
        "id": "ZMyg0Mg8kpiI",
        "outputId": "946d1fe9-fb1d-45b7-cb76-fabe7896e709"
      },
      "outputs": [
        {
          "name": "stdout",
          "output_type": "stream",
          "text": [
            "유사도: 0.4692 | 내용: 바로 이 과정에 사용하는 것이 바로 '푸리에 변환'이다.\n",
            "조수 예측을 아주 제대로 사용한 것이 '제 2차 세계대전'이다.\n",
            "연합군이 재빠른 침공을 위해 조수를 예측하여, 언제가 가장 유리한지 파악하게 해주었다.\n",
            "제 2차 세계 대전을 하니 생각나는 이야기가 하나 더 있다.\n",
            "제 2차 세계대전에서 미국은 나가사키와 히로시마에 원자폭탄을 투하했다.\n",
            "이로 인해 전세계 사람들은 에너지의 위험성을 알게 되었다.\n",
            "물론 그것은 방대한 에너지 때문만은 아닐 것이다. 강력한 방사능을 포함하고 있으니 문제가 되는 것이다.\n",
            "그래서 각국에서 핵 연료에 대한 모든 활동을 금지하는 조항을 체결하기로 했다.\n",
            "하지만 당시 소련은, 미국의 핵 군사력 강화를 위한 책략이라 여겼고, 곧 의미가 퇴색했다.\n",
            "타국에서 핵을 연구하는지 아닌지 감시해야만 하는 상황에 닥쳤다.\n",
            "방사성 동위원소가 대기 중에서는 수 천km를 날아가기 때문에 감지가 쉽다.\n",
            "해저에서도 특수한 소리를 잡는 청음기로 포착이 쉽다....\n",
            "유사도: 0.3727 | 내용: 해저에서도 특수한 소리를 잡는 청음기로 포착이 쉽다.\n",
            "하지만 지하라면 이야기가 달라진다. 방사성 동위원소도 소리도 널리 퍼지지 않는다.\n",
            "오직 진동만이 전달되는데, 이를 잡기 위해 사용한 것이 '푸리에 변환'이다.\n",
            "그리고 이 계산을 빠르게 하기 위해서 '고속 푸리에 변환'이 나온 것이다.\n",
            "빠르게 적국의 핵 실험을 포착해야 하기에 당연한 이유이다.\n",
            "(참고로 위 영상도Veritasium의 유튜브이다.)\n",
            "필요가 있어야 배움이 잘 된다.\n",
            "FFT를 알기 위해서는 DFT를 알아야 한다.\n",
            "DFT를 알기 위해서는 FT를 알아야 하고, Convolution을 알아야 한다.\n",
            "하나하나 근원을 따라가며 차근차근 이해를 하면서 거슬러 올라왔다.\n",
            "위 내용을 전부 이해했더라도, 코드로 옮기는 과정은 또 다른 일이었다.\n",
            "그래도 많은 참고 자료를 확인하면서 AC를 뚫는 쾌거를 이뤘다.\n",
            "위에서 설명한 수학 개념들과 유도 과정들은, 참고 자료와 함께 글로 작성할 예정이다....\n",
            "유사도: 0.3532 | 내용: 내가 해냈다.\n",
            "위 그림은인랩의 매크로 탐지그래프 과정 중 일부분이다.\n",
            "유저의 키보드 신호와 행동 패턴을 하나의 시간 요소로 보고, 주파수 측면으로 변형하는 것이다.\n",
            "그럼 위처럼 일반 유저와 어뷰저의 행동 패턴이 두드러지게 바뀌는 것을 볼 수 있다.\n",
            "이 변환에 사용하는 것이 바로 '푸리에 변환'이다.\n",
            "이것은 내가 정말 좋아하는 영상 중 하나이다.\n",
            "Veritasium이라는 유튜브의 영상으로, 아날로그 적분에 대한 영상이 담겨있다.\n",
            "더욱이 아날로그 컴퓨터란 무엇인지, 이것이 어떤 변천을 거쳤는지도 가볍게 알 수 있다.\n",
            "아날로그 컴퓨터의 기원이 되는 이 파동분석기는 William Thomson이라는 사람이 고안했다.\n",
            "현재는 Kelvin이라는 이름으로 잘 알려져 있으며,절대온도의 그 '캘빈'이 맞다.\n",
            "내용 중에서 여운이 남았던 것은, 수학과 파동분석기를 이용한다면 조수(파도)를 예측할 수 있다는 것이다.\n",
            "바로 이 과정에 사용하는 것이 바로 '푸리에 변환'이다....\n"
          ]
        }
      ],
      "source": [
        "# 3️⃣ FAISS 인덱스 로드 (저장된 인덱스를 재사용 가능)\n",
        "index, texts = load_faiss_index()\n",
        "\n",
        "# 4️⃣ RAG 검색 실행 (질문 입력)\n",
        "query = \"역전파에 대해 설명해줘\" # 질문 입력\n",
        "retrieved_docs = retrieve_documents(query, index, model, texts, top_k=3)\n",
        "\n",
        "# 5️⃣ 검색 결과 출력\n",
        "for doc, score in retrieved_docs:\n",
        "    print(f\"유사도: {score:.4f} | 내용: {doc[:500]}...\")"
      ]
    },
    {
      "cell_type": "code",
      "execution_count": 58,
      "metadata": {
        "colab": {
          "base_uri": "https://localhost:8080/",
          "height": 1000
        },
        "id": "MkwwC-jAkwan",
        "outputId": "901491b7-d424-4d50-8bff-82260047bd12"
      },
      "outputs": [
        {
          "name": "stdout",
          "output_type": "stream",
          "text": [
            "\n",
            "🔹 Gemini 응답: ## 역전파(Backpropagation)란 무엇일까요?\n",
            "\n",
            "역전파는 인공 신경망(Artificial Neural Network)을 훈련시키는 데 사용되는 핵심 알고리즘입니다. 신경망의 예측이 실제 값과 얼마나 다른지 (오차) 계산하고, 이 오차를 네트워크를 거슬러 올라가면서 각 가중치(weight)와 편향(bias)에 대한 기여도를 계산하여 가중치와 편향을 업데이트하는 방식으로 작동합니다.  즉, **신경망이 더 정확한 예측을 할 수 있도록 조정하는 과정**이라고 할 수 있습니다.\n",
            "\n",
            "**좀 더 쉽게 비유를 들어 설명해 보겠습니다.**\n",
            "\n",
            "*   **신경망:** 복잡한 미로\n",
            "*   **가중치 및 편향:** 미로의 갈림길에서 어느 방향으로 가야 할지 결정하는 표지판\n",
            "*   **입력:** 미로의 입구\n",
            "*   **출력:** 미로의 출구\n",
            "*   **오차:** 출구에 도착했지만, 원하는 출구가 아님\n",
            "*   **역전파:** 잘못된 출구에서부터 미로를 거슬러 올라가면서 어떤 표지판(가중치 및 편향)이 잘못되었는지 파악하고, 표지판의 방향을 조금씩 수정하여 다음번에는 원하는 출구로 향하도록 하는 과정\n",
            "\n",
            "**역전파의 핵심 단계:**\n",
            "\n",
            "1.  **순전파 (Forward Propagation):**\n",
            "    *   입력 데이터가 신경망의 입력층을 통해 들어옵니다.\n",
            "    *   각 층을 거치면서 가중치와 편향에 의해 변환되고 활성화 함수를 통과합니다.\n",
            "    *   최종적으로 출력층에서 예측값이 생성됩니다.\n",
            "\n",
            "2.  **오차 계산 (Loss Calculation):**\n",
            "    *   신경망의 예측값과 실제 정답 간의 오차를 계산합니다.  이때 오차 함수 (Loss function)를 사용합니다.  일반적으로 평균 제곱 오차 (Mean Squared Error, MSE)나 교차 엔트로피 오차 (Cross-Entropy Error) 등이 사용됩니다.\n",
            "\n",
            "3.  **역전파 (Backward Propagation):**\n",
            "    *   계산된 오차를 사용하여 출력층에서부터 입력층 방향으로 오차를 전파합니다.\n",
            "    *   **미분 (Differentiation):**  각 가중치와 편향이 오차에 얼마나 영향을 미치는지를 미분을 통해 계산합니다.  이를 **기울기 (Gradient)**라고 부릅니다.  기울기는 가중치와 편향을 어떻게 조정해야 오차를 줄일 수 있는지 알려주는 방향과 크기를 나타냅니다.\n",
            "    *   **연쇄 법칙 (Chain Rule):**  복잡한 함수의 미분을 계산하기 위해 연쇄 법칙을 사용합니다.  연쇄 법칙은 각 층의 가중치와 편향이 최종 오차에 미치는 영향을 단계적으로 계산할 수 있도록 해줍니다.\n",
            "\n",
            "4.  **가중치 및 편향 업데이트 (Weight and Bias Update):**\n",
            "    *   계산된 기울기를 사용하여 가중치와 편향을 업데이트합니다.  일반적으로 **경사 하강법 (Gradient Descent)** 알고리즘을 사용합니다.\n",
            "    *   경사 하강법은 기울기의 반대 방향으로 가중치와 편향을 조금씩 이동시켜 오차를 줄이는 방식으로 작동합니다.\n",
            "    *   **학습률 (Learning Rate):**  가중치와 편향을 얼마나 많이 업데이트할지 결정하는 하이퍼파라미터입니다.  학습률이 너무 크면 최적의 지점을 지나쳐 버리고, 너무 작으면 학습 속도가 느려질 수 있습니다.\n",
            "\n",
            "**역전파가 중요한 이유:**\n",
            "\n",
            "*   **자동으로 특징 학습:** 역전파는 사람이 직접 특징을 정의할 필요 없이 신경망이 데이터로부터 스스로 특징을 학습하도록 합니다.\n",
            "*   **복잡한 문제 해결:** 이미지 인식, 자연어 처리, 음성 인식 등 복잡한 문제에서 뛰어난 성능을 보입니다.\n",
            "*   **지속적인 개선:**  데이터가 많을수록, 학습을 오래 할수록 성능이 향상됩니다.\n",
            "\n",
            "**주의해야 할 점:**\n",
            "\n",
            "*   **Vanishing Gradient (기울기 소실):**  신경망이 깊어질수록 기울기가 점점 작아져서 앞쪽 층의 가중치가 제대로 업데이트되지 않는 문제.  ReLU 활성화 함수, 배치 정규화 (Batch Normalization) 등을 사용하여 해결할 수 있습니다.\n",
            "*   **Overfitting (과적합):**  훈련 데이터에만 너무 맞춰져서 새로운 데이터에 대한 예측 성능이 떨어지는 문제.  드롭아웃 (Dropout), 규제 (Regularization) 등을 사용하여 해결할 수 있습니다.\n",
            "*   **Local Minima (지역 최소점):**  오차 함수가 여러 개의 최소점을 가질 때, 경사 하강법이 전체 최소점 (Global Minimum)이 아닌 지역 최소점에 갇힐 수 있는 문제.  모멘텀 (Momentum) 등의 최적화 알고리즘을 사용하여 해결할 수 있습니다.\n",
            "\n",
            "**결론:**\n",
            "\n",
            "역전파는 인공 신경망을 훈련시키는 데 필수적인 알고리즘이며, 복잡한 문제를 해결하는 데 강력한 도구입니다.  이해하기 어려울 수 있지만, 순전파, 오차 계산, 미분, 가중치 업데이트라는 핵심 단계를 기억하고, 관련 개념들을 함께 학습하면 역전파를 효과적으로 이해하고 활용할 수 있습니다.  궁금한 점이 있다면 언제든지 질문해주세요!\n",
            "\n"
          ]
        }
      ],
      "source": [
        "# 7️⃣ Gemini API를 활용한 답변 생성\n",
        "context_text = \"\\n\".join([doc[0] for doc in retrieved_docs])\n",
        "answer = generate_gemini_answer(query, context_text)\n",
        "print(\"\\n🔹 Gemini 응답:\", answer)"
      ]
    },
    {
      "cell_type": "code",
      "execution_count": 59,
      "metadata": {
        "colab": {
          "base_uri": "https://localhost:8080/",
          "height": 1000
        },
        "id": "KoozQ4MduVWq",
        "outputId": "9a2f00fe-2b02-4276-8c79-71d14180f36a"
      },
      "outputs": [
        {
          "name": "stdout",
          "output_type": "stream",
          "text": [
            "유사도: 0.5822 | 내용: 데이터베이스 내부에 테이블을 생성하기 위해서는 데이터베이스에 접근해야 한다.\n",
            "use_db_name에 접근할 데이터베이스 이름을 적으면 된다.\n",
            "이때 MySQL Workbench 좌측창에서 더블 클릭으로 접근해도 상관없다.\n",
            "현재 선택한 데이터베이스를 확인한다.\n",
            "데이터베이스 내부에 존재하는 테이블 목록을 보여준다.\n",
            "특정 테이블의 정보를 확인한다.\n",
            "특정 테이블의 ...\n",
            "유사도: 0.4967 | 내용: 현재는 'cat_id' 값이 기본키로 들어가있으며, name, breed, age가 column으로 있다.\n",
            "MySQL이라는 DBMS를 사용하면 당연히 데이터베이스를 다룰 줄 알아야 한다.\n",
            "위의 그림을 예시로 들면, 4개의 각기 다른 색에 해당하는 구역이 하나의 Database이다.\n",
            "각 색상에 들어있는 다양한 크기의 사각형들이 Table이다.\n",
            "이번 글에서 가...\n",
            "유사도: 0.4058 | 내용: https://level.goorm.io/exam/195698/연합/quiz/1\n",
            "백준 바이러스와 유사한 문제이다. 그래프로 연결할 때, 몇 개의 집합이 있는가 묻는 문제이다.\n",
            "DFS와 BFS 방식 두 가지으로 모두 해결했지만, 여기에는 조금 다른 방법을 적어본다.\n",
            "3주차에서 '탐색'이라는 카테고리에서 DFS와 BFS 응용을 했으니, 4주차에서는 진짜 '그래...\n",
            "\n",
            "🔹 Gemini 응답: MySQL로 데이터베이스를 만드는 방법은 크게 두 가지로 나눌 수 있습니다.\n",
            "\n",
            "**1. MySQL 클라이언트 (명령줄) 사용:**\n",
            "\n",
            "*   MySQL 서버에 접속하여 SQL 명령어를 직접 입력하여 데이터베이스를 생성하는 방법입니다.\n",
            "*   GUI 툴 없이도 가능하며, 자동화된 스크립트 작성에 용이합니다.\n",
            "\n",
            "**2. GUI 툴 사용:**\n",
            "\n",
            "*   MySQL Workbench, Dbeaver, Navicat 등의 GUI 툴을 사용하여 시각적으로 데이터베이스를 생성하고 관리하는 방법입니다.\n",
            "*   SQL 명령어에 익숙하지 않은 사용자도 쉽게 데이터베이스를 생성할 수 있습니다.\n",
            "\n",
            "**각 방법별 자세한 설명은 다음과 같습니다.**\n",
            "\n",
            "**1. MySQL 클라이언트 (명령줄) 사용:**\n",
            "\n",
            "1.  **MySQL 서버 접속:**\n",
            "\n",
            "    *   터미널 또는 명령 프롬프트를 열고 다음 명령어를 입력하여 MySQL 서버에 접속합니다.\n",
            "\n",
            "    ```bash\n",
            "    mysql -u [사용자_이름] -p\n",
            "    ```\n",
            "\n",
            "    *   `[사용자_이름]`은 MySQL 서버에 접속할 사용자 계정입니다. (예: root)\n",
            "    *   `-p` 옵션은 비밀번호를 입력하라는 의미입니다.\n",
            "    *   비밀번호를 입력하라는 메시지가 나타나면 해당 계정의 비밀번호를 입력합니다.\n",
            "    *   정상적으로 접속되면 `mysql>` 프롬프트가 나타납니다.\n",
            "\n",
            "2.  **데이터베이스 생성:**\n",
            "\n",
            "    *   다음 명령어를 입력하여 새로운 데이터베이스를 생성합니다.\n",
            "\n",
            "    ```sql\n",
            "    CREATE DATABASE [데이터베이스_이름];\n",
            "    ```\n",
            "\n",
            "    *   `[데이터베이스_이름]`은 생성할 데이터베이스의 이름입니다. (예: mydatabase)\n",
            "    *   데이터베이스 이름은 MySQL의 명명 규칙을 따라야 합니다. (예: 문자, 숫자, 밑줄(_)만 사용 가능)\n",
            "\n",
            "3.  **데이터베이스 사용:**\n",
            "\n",
            "    *   다음 명령어를 입력하여 생성한 데이터베이스를 사용하도록 설정합니다.\n",
            "\n",
            "    ```sql\n",
            "    USE [데이터베이스_이름];\n",
            "    ```\n",
            "\n",
            "    *   `[데이터베이스_이름]`은 사용할 데이터베이스의 이름입니다. (예: mydatabase)\n",
            "\n",
            "4.  **테이블 생성 (선택 사항):**\n",
            "\n",
            "    *   데이터베이스 안에 테이블을 생성하려면 다음 명령어를 사용합니다.\n",
            "\n",
            "    ```sql\n",
            "    CREATE TABLE [테이블_이름] (\n",
            "        [컬럼_이름] [데이터_타입] [제약_조건],\n",
            "        ...\n",
            "    );\n",
            "    ```\n",
            "\n",
            "    *   `[테이블_이름]`은 생성할 테이블의 이름입니다. (예: users)\n",
            "    *   `[컬럼_이름]`은 테이블 컬럼의 이름입니다. (예: id, name, email)\n",
            "    *   `[데이터_타입]`은 컬럼의 데이터 타입입니다. (예: INT, VARCHAR, DATE)\n",
            "    *   `[제약_조건]`은 컬럼에 대한 제약 조건입니다. (예: PRIMARY KEY, NOT NULL, UNIQUE)\n",
            "    *   테이블 생성에 대한 자세한 내용은 MySQL 문서를 참조하십시오.\n",
            "\n",
            "5.  **MySQL 서버 종료:**\n",
            "\n",
            "    *   다음 명령어를 입력하여 MySQL 서버 접속을 종료합니다.\n",
            "\n",
            "    ```sql\n",
            "    EXIT;\n",
            "    ```\n",
            "\n",
            "**2. GUI 툴 사용 (MySQL Workbench 예시):**\n",
            "\n",
            "1.  **MySQL Workbench 실행:**\n",
            "\n",
            "    *   MySQL Workbench를 실행하고 MySQL 서버에 접속합니다.\n",
            "    *   접속 정보 (호스트, 포트, 사용자 이름, 비밀번호)를 입력해야 합니다.\n",
            "\n",
            "2.  **새로운 스키마 생성:**\n",
            "\n",
            "    *   왼쪽 Navigator 패널에서 \"Schemas\"를 마우스 오른쪽 버튼으로 클릭하고 \"Create Schema...\"를 선택합니다.\n",
            "    *   \"New Schema\" 다이얼로그에서 데이터베이스 이름 (Schema Name)을 입력하고 \"Apply\" 버튼을 클릭합니다.\n",
            "\n",
            "3.  **SQL 스크립트 확인 및 실행:**\n",
            "\n",
            "    *   생성될 데이터베이스에 대한 SQL 스크립트가 표시됩니다.\n",
            "    *   \"Apply\" 버튼을 클릭하여 스크립트를 실행하고 데이터베이스를 생성합니다.\n",
            "    *   \"Finish\" 버튼을 클릭하여 다이얼로그를 닫습니다.\n",
            "\n",
            "4.  **테이블 생성 (선택 사항):**\n",
            "\n",
            "    *   생성된 데이터베이스를 선택하고 테이블을 생성합니다.\n",
            "    *   테이블 생성은 GUI를 통해 컬럼, 데이터 타입, 제약 조건 등을 설정할 수 있습니다.\n",
            "    *   SQL Editor를 사용하여 직접 SQL 스크립트를 작성하여 테이블을 생성할 수도 있습니다.\n",
            "\n",
            "**주의사항:**\n",
            "\n",
            "*   데이터베이스 이름은 유일해야 합니다.\n",
            "*   데이터베이스 이름은 MySQL의 명명 규칙을 따라야 합니다.\n",
            "*   MySQL 서버에 접속할 수 있는 권한이 있는 사용자 계정을 사용해야 합니다.\n",
            "*   데이터베이스 생성 전에 백업을 수행하는 것이 좋습니다.\n",
            "\n",
            "**추가 정보:**\n",
            "\n",
            "*   MySQL 공식 문서: [https://dev.mysql.com/doc/](https://dev.mysql.com/doc/)\n",
            "*   MySQL Workbench: [https://www.mysql.com/products/workbench/](https://www.mysql.com/products/workbench/)\n",
            "\n",
            "궁금한 점이 있다면 언제든지 다시 질문해주세요.\n"
          ]
        }
      ],
      "source": [
        "# 4️⃣ RAG 검색 실행 (질문 입력)\n",
        "query = \"MySQL로 데이터베이스 만드는 방법 알려줘\" # 질문 입력\n",
        "retrieved_docs = retrieve_documents(query, index, model, texts, top_k=3)\n",
        "\n",
        "# 5️⃣ 검색 결과 출력\n",
        "for doc, score in retrieved_docs:\n",
        "    print(f\"유사도: {score:.4f} | 내용: {doc[:200]}...\")\n",
        "\n",
        "# 7️⃣ Gemini API를 활용한 답변 생성\n",
        "context_text = \"\\n\".join([doc[0] for doc in retrieved_docs])\n",
        "answer = generate_gemini_answer(query, context_text)\n",
        "print(\"\\n🔹 Gemini 응답:\", answer)"
      ]
    },
    {
      "cell_type": "code",
      "execution_count": null,
      "metadata": {
        "id": "OApixCBAkxYR"
      },
      "outputs": [
        {
          "data": {
            "application/vnd.jupyter.widget-view+json": {
              "model_id": "d258bd247c394bf3839e5e3b7c31f727",
              "version_major": 2,
              "version_minor": 0
            },
            "text/plain": [
              "Evaluating:   0%|          | 0/4 [00:00<?, ?it/s]"
            ]
          },
          "metadata": {},
          "output_type": "display_data"
        },
        {
          "name": "stdout",
          "output_type": "stream",
          "text": [
            "                 user_input  \\\n",
            "0  MySQL로 데이터베이스 만드는 방법 알려줘   \n",
            "\n",
            "                                  retrieved_contexts  \\\n",
            "0  [데이터베이스 내부에 테이블을 생성하기 위해서는 데이터베이스에 접근해야 한다.\\nu...   \n",
            "\n",
            "                                            response  \\\n",
            "0  MySQL로 데이터베이스를 만드는 방법은 크게 두 가지로 나눌 수 있습니다.\\n\\n...   \n",
            "\n",
            "                                           reference  faithfulness  \\\n",
            "0  1️⃣ MySQL 서버에 접속하기:\\n   ```sh\\n   mysql -u roo...           0.0   \n",
            "\n",
            "   answer_relevancy  context_precision  context_recall  \n",
            "0          0.857186                1.0             0.0  \n"
          ]
        }
      ],
      "source": [
        "# evaluate RAG with metrics of RAGAS\n",
        "data = {\n",
        "    \"user_input\": [query],\n",
        "    \"response\": [answer],\n",
        "    \"retrieved_contexts\": [[context_text]],\n",
        "    \"reference\": [\"\\n\".join([  \n",
        "        \"1️⃣ MySQL 서버에 접속하기:\",  \n",
        "        \"   ```sh\",  \n",
        "        \"   mysql -u root -p\",  \n",
        "        \"   ```\",  \n",
        "        \"   - `root`는 기본 사용자명이며, 비밀번호 입력 후 접속.\",  \n",
        "        \"\",  \n",
        "        \"2️⃣ 데이터베이스 생성하기:\",  \n",
        "        \"   ```sql\",  \n",
        "        \"   CREATE DATABASE mydatabase;\",  \n",
        "        \"   ```\",  \n",
        "        \"   - `mydatabase`는 원하는 데이터베이스 이름으로 변경 가능.\",  \n",
        "        \"\",  \n",
        "        \"3️⃣ 데이터베이스 확인하기:\",  \n",
        "        \"   ```sql\",  \n",
        "        \"   SHOW DATABASES;\",  \n",
        "        \"   ```\",  \n",
        "        \"   - `mydatabase`가 목록에 있는지 확인!\",  \n",
        "        \"\",  \n",
        "        \"4️⃣ 사용할 데이터베이스 선택하기:\",  \n",
        "        \"   ```sql\",  \n",
        "        \"   USE mydatabase;\",  \n",
        "        \"   ```\",  \n",
        "        \"\",  \n",
        "        \"5️⃣ 테이블 생성하기:\",  \n",
        "        \"   ```sql\",  \n",
        "        \"   CREATE TABLE users (\",  \n",
        "        \"       id INT AUTO_INCREMENT PRIMARY KEY,\",  \n",
        "        \"       name VARCHAR(50),\",  \n",
        "        \"       email VARCHAR(100) UNIQUE,\",  \n",
        "        \"       created_at TIMESTAMP DEFAULT CURRENT_TIMESTAMP\",  \n",
        "        \"   );\",  \n",
        "        \"   ```\",  \n",
        "        \"\",  \n",
        "        \"6️⃣ 테이블 목록 확인하기:\",  \n",
        "        \"   ```sql\",  \n",
        "        \"   SHOW TABLES;\",  \n",
        "        \"   ```\",  \n",
        "        \"\",  \n",
        "        \"7️⃣ 데이터 삽입하기:\",  \n",
        "        \"   ```sql\",  \n",
        "        \"   INSERT INTO users (name, email) VALUES ('Alice', 'alice@example.com');\",  \n",
        "        \"   ```\",  \n",
        "        \"\",  \n",
        "        \"8️⃣ 데이터 조회하기:\",  \n",
        "        \"   ```sql\",  \n",
        "        \"   SELECT * FROM users;\",  \n",
        "        \"   ```\",  \n",
        "        \"\",  \n",
        "        \"✅ 이제 MySQL에서 데이터베이스와 테이블을 만들고 데이터를 추가할 수 있음!\"  \n",
        "    ])]\n",
        "}\n",
        "\n",
        "\n",
        "dataset = Dataset.from_dict(data)\n",
        "\n",
        "metrics = [\n",
        "    faithfulness,\n",
        "    answer_relevancy,\n",
        "    context_precision,\n",
        "    context_recall,\n",
        "]\n",
        "\n",
        "results = evaluate(dataset, metrics)\n",
        "\n",
        "df = results.to_pandas()\n",
        "print(df)"
      ]
    },
    {
      "cell_type": "code",
      "execution_count": null,
      "metadata": {},
      "outputs": [],
      "source": []
    }
  ],
  "metadata": {
    "colab": {
      "provenance": []
    },
    "kernelspec": {
      "display_name": "langchain",
      "language": "python",
      "name": "python3"
    },
    "language_info": {
      "codemirror_mode": {
        "name": "ipython",
        "version": 3
      },
      "file_extension": ".py",
      "mimetype": "text/x-python",
      "name": "python",
      "nbconvert_exporter": "python",
      "pygments_lexer": "ipython3",
      "version": "3.11.11"
    }
  },
  "nbformat": 4,
  "nbformat_minor": 0
}
